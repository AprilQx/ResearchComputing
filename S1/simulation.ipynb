{
 "cells": [
  {
   "cell_type": "code",
   "execution_count": 1,
   "metadata": {
    "notebookRunGroups": {
     "groupValue": "1"
    }
   },
   "outputs": [],
   "source": [
    "#Here we would like to simulate a random sample"
   ]
  },
  {
   "cell_type": "code",
   "execution_count": 2,
   "metadata": {},
   "outputs": [],
   "source": [
    "#estimate pi\n",
    "import random\n",
    "def estimation(num_samples):\n",
    "    num_inside = 0\n",
    "    for i in range(num_samples):\n",
    "        x = random.uniform(-1,1)\n",
    "        y = random.uniform(-1,1)\n",
    "        if x**2 + y**2 < 1:\n",
    "            num_inside += 1\n",
    "    return 4*num_inside/num_samples"
   ]
  },
  {
   "cell_type": "code",
   "execution_count": 3,
   "metadata": {},
   "outputs": [
    {
     "name": "stdout",
     "output_type": "stream",
     "text": [
      "3.2\n",
      "3.32\n",
      "3.148\n",
      "3.1344\n",
      "3.15524\n",
      "3.140868\n"
     ]
    }
   ],
   "source": [
    "#Here we would like to solve the square root equation (Newton)\n",
    "def solver(n):\n",
    "    \"\"\"\n",
    "    f'(x_n)=(f(x_n)-0)/(x_n-x_n+1)\n",
    "    x_n+1=x_n-f(x_n)/f'(x_n)\n",
    "    \"\"\"\n",
    "    x=n\n",
    "    y=(x+n/x)/2\n",
    "    tol=0.0000001\n",
    "    while abs(y-x)>tol:\n",
    "        x=y\n",
    "        y=(x+n/x)/2\n",
    "    return y\n",
    "\n",
    "for i in range(1,7):\n",
    "    print(estimation(10**i))"
   ]
  },
  {
   "cell_type": "code",
   "execution_count": null,
   "metadata": {},
   "outputs": [],
   "source": [
    "#here we would like to solve the same equation using bisection\n",
    "def bi_solver(n):\n",
    "    "
   ]
  }
 ],
 "metadata": {
  "kernelspec": {
   "display_name": "base",
   "language": "python",
   "name": "python3"
  },
  "language_info": {
   "codemirror_mode": {
    "name": "ipython",
    "version": 3
   },
   "file_extension": ".py",
   "mimetype": "text/x-python",
   "name": "python",
   "nbconvert_exporter": "python",
   "pygments_lexer": "ipython3",
   "version": "3.9.17"
  }
 },
 "nbformat": 4,
 "nbformat_minor": 2
}
