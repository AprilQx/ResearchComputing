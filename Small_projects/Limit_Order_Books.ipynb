{
 "cells": [
  {
   "cell_type": "markdown",
   "metadata": {},
   "source": [
    "This small project will focus on limit order books as well as some other aspects of market microstructure."
   ]
  },
  {
   "cell_type": "markdown",
   "metadata": {},
   "source": [
    "$$UNIT \\quad TESTS$$\n"
   ]
  },
  {
   "cell_type": "markdown",
   "metadata": {},
   "source": [
    "We will now write some unit tests for the programs inthe first part of this project. When code is modularized, one can use unit testing to ensure each individual function behaves as we would expect."
   ]
  },
  {
   "cell_type": "markdown",
   "metadata": {
    "notebookRunGroups": {
     "groupValue": "2"
    }
   },
   "source": [
    "One can even automate these tests and run them all after any change is made o ensure the newly modified code still passes the original tests."
   ]
  },
  {
   "cell_type": "markdown",
   "metadata": {},
   "source": [
    "#2.1- Using Unit tests#\n"
   ]
  },
  {
   "cell_type": "markdown",
   "metadata": {},
   "source": [
    "#2.1.1 Test-driven development#"
   ]
  },
  {
   "cell_type": "markdown",
   "metadata": {},
   "source": [
    "One common way to develop software is test-driven development. In this, developers define the expectations of the function first. They then build tests for the fucntions taht should determine whether it meets these expectations. "
   ]
  },
  {
   "cell_type": "markdown",
   "metadata": {
    "notebookRunGroups": {
     "groupValue": "1"
    }
   },
   "source": [
    "Usually, the unit tests are named after test_FunctionName_testState_ExpectedBehaviour"
   ]
  },
  {
   "cell_type": "markdown",
   "metadata": {},
   "source": [
    "The AAA pattern for unit tests:\n",
    "1. Arrange-At the start of the unit test, we create and set up the objects needed for he tests. These could be values, databases or other structures.\n",
    "2. Act- Next, we perform whatever actions we wish to test with our function. This should call only one function\n",
    "3. Assert- Lastly, we determine whether the test was passed or failed. We do this with an assertion, which pass when values are equal and fail when they are not."
   ]
  },
  {
   "cell_type": "markdown",
   "metadata": {},
   "source": []
  },
  {
   "cell_type": "code",
   "execution_count": null,
   "metadata": {},
   "outputs": [],
   "source": []
  }
 ],
 "metadata": {
  "kernelspec": {
   "display_name": "base",
   "language": "python",
   "name": "python3"
  },
  "language_info": {
   "name": "python",
   "version": "3.9.17"
  }
 },
 "nbformat": 4,
 "nbformat_minor": 2
}
